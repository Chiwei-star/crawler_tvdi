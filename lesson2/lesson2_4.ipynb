{
 "cells": [
  {
   "cell_type": "code",
   "execution_count": null,
   "id": "3ebf68d8",
   "metadata": {},
   "outputs": [],
   "source": [
    "if 條件:\n",
    "    執行的程式碼（縮排）"
   ]
  },
  {
   "cell_type": "code",
   "execution_count": null,
   "id": "8e994593",
   "metadata": {},
   "outputs": [
    {
     "name": "stdout",
     "output_type": "stream",
     "text": [
      "x 大於 5\n"
     ]
    }
   ],
   "source": [
    "# 範例 1：基本的 if 語句\n",
    "\n",
    "x = 10\n",
    "\n",
    "if x > 5:\n",
    "    print(\"x 大於 5\")\n",
    "\n",
    "# 解釋：\n",
    "# x > 5 是條件（True 或 False）\n",
    "# 如果是 True，就會執行 print(\"x 大於 5\")\n"
   ]
  },
  {
   "cell_type": "code",
   "execution_count": 5,
   "id": "4cc453ef",
   "metadata": {},
   "outputs": [
    {
     "name": "stdout",
     "output_type": "stream",
     "text": [
      "x 小於或等於 5\n"
     ]
    }
   ],
   "source": [
    "# 範例 2：使用 else\n",
    "\n",
    "x = 3\n",
    "\n",
    "if x > 5:\n",
    "    print(\"x 大於 5\")\n",
    "else:\n",
    "    print(\"x 小於或等於 5\")\n",
    "    \n",
    "# 解釋：\n",
    "# 如果 x > 5 是 True，就執行第一個 print"
   ]
  },
  {
   "cell_type": "code",
   "execution_count": 6,
   "id": "dae879d5",
   "metadata": {},
   "outputs": [
    {
     "name": "stdout",
     "output_type": "stream",
     "text": [
      "x 等於 5\n"
     ]
    }
   ],
   "source": [
    "# 範例 3：使用 elif（else if 的縮寫）\n",
    "\n",
    "x = 5\n",
    "\n",
    "if x > 5:\n",
    "    print(\"x 大於 5\")\n",
    "elif x == 5:\n",
    "    print(\"x 等於 5\")\n",
    "else:\n",
    "    print(\"x 小於 5\")\n",
    "\n",
    "    \n",
    "# 解釋：\n",
    "# 如果 x > 5 是 True，就執行第一個 print"
   ]
  },
  {
   "cell_type": "code",
   "execution_count": 12,
   "id": "51bf8585",
   "metadata": {},
   "outputs": [
    {
     "name": "stdout",
     "output_type": "stream",
     "text": [
      "你已經成年了，可以投票。\n"
     ]
    }
   ],
   "source": [
    "age = 18\n",
    "\n",
    "if age >= 18:\n",
    "    print(\"你已經成年了，可以投票。\")"
   ]
  },
  {
   "cell_type": "code",
   "execution_count": 13,
   "id": "8a03276c",
   "metadata": {},
   "outputs": [
    {
     "name": "stdout",
     "output_type": "stream",
     "text": [
      "你還未成年\n"
     ]
    }
   ],
   "source": [
    "age = 16  # 雙向選擇\n",
    "if age >= 18: #True\n",
    "    print(\"你已成年\")\n",
    "else: # False\n",
    "    print(\"你還未成年\")"
   ]
  },
  {
   "cell_type": "code",
   "execution_count": 14,
   "id": "817c5436",
   "metadata": {},
   "outputs": [
    {
     "name": "stdout",
     "output_type": "stream",
     "text": [
      "成績不及格\n"
     ]
    }
   ],
   "source": [
    "# 多項選擇\n",
    "score = 54\n",
    "if score >= 90:\n",
    "    print(\"成績優秀\")\n",
    "elif score >= 60:\n",
    "    print(\"成績及格\")\n",
    "else:\n",
    "    print(\"成績不及格\")"
   ]
  },
  {
   "cell_type": "code",
   "execution_count": null,
   "id": "ee2f572f",
   "metadata": {},
   "outputs": [],
   "source": [
    "a = 10\n",
    "b = 20\n",
    "\n",
    "print(a == b)   # False\n",
    "print(a != b)   # True\n",
    "print(a > b)    # False\n",
    "print(a < b)    # True\n",
    "print(a >= 10)  # True\n",
    "print(b <= 15)  # False\n",
    "print(a is b)   # False\n",
    "print(a is not b)  # True"
   ]
  }
 ],
 "metadata": {
  "kernelspec": {
   "display_name": "web_crawler",
   "language": "python",
   "name": "python3"
  },
  "language_info": {
   "codemirror_mode": {
    "name": "ipython",
    "version": 3
   },
   "file_extension": ".py",
   "mimetype": "text/x-python",
   "name": "python",
   "nbconvert_exporter": "python",
   "pygments_lexer": "ipython3",
   "version": "3.11.13"
  }
 },
 "nbformat": 4,
 "nbformat_minor": 5
}
