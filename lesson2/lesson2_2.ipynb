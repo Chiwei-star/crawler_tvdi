{
 "cells": [
  {
   "cell_type": "markdown",
   "id": "6ad11869",
   "metadata": {},
   "source": [
    "### python 基礎"
   ]
  },
  {
   "cell_type": "code",
   "execution_count": null,
   "id": "72283fe6",
   "metadata": {},
   "outputs": [
    {
     "name": "stdout",
     "output_type": "stream",
     "text": [
      "Alice\n",
      "25\n",
      "1.65\n",
      "True\n"
     ]
    }
   ],
   "source": [
    "name = \"Alice\"         # 字串（string）,簡稱 str\n",
    "age = 25               # 整數（integer）,簡稱 int\n",
    "height = 1.65          # 浮點數（float）,小數點\n",
    "is_student = True      # 布林值（boolean）,簡稱 bool\n",
    "\n",
    "print(name)\n",
    "print(age)\n",
    "print(height)\n",
    "print(is_student)"
   ]
  },
  {
   "cell_type": "code",
   "execution_count": 2,
   "id": "029f6ff2",
   "metadata": {},
   "outputs": [
    {
     "name": "stdout",
     "output_type": "stream",
     "text": [
      "Hello! Python!\n"
     ]
    }
   ],
   "source": [
    "print(\"Hello! Python!\")"
   ]
  },
  {
   "cell_type": "code",
   "execution_count": 3,
   "id": "fe22db5d",
   "metadata": {},
   "outputs": [
    {
     "name": "stdout",
     "output_type": "stream",
     "text": [
      "Alice\n",
      "30\n",
      "Hello, Alice!\n",
      "Price: $99.99\n",
      "Is student: True\n"
     ]
    }
   ],
   "source": [
    "# 整數(integer,簡稱 int)\n",
    "age = 25\n",
    "\n",
    "# 浮點數（簡稱 float,小數）\n",
    "price = 99.99\n",
    "\n",
    "# 字串（string,簡稱 str,文字）\n",
    "name = \"Alice\"\n",
    "\n",
    "# 布林值（True 或 False, 簡稱 bool ）\n",
    "is_student = True\n",
    "\n",
    "# 列表（List）\n",
    "fruits = [\"apple\", \"banana\", \"cherry\"]\n",
    "\n",
    "# 字典（Dictionary）\n",
    "person = {\n",
    "    \"name\": \"Bob\",\n",
    "    \"age\": 30\n",
    "}\n",
    "\n",
    "# 把變數值印出來\n",
    "print(name)       # 輸出：Alice\n",
    "print(age + 5)    # 輸出：30\n",
    "print(f\"Hello, {name}!\")  # 輸出：Hello, Alice!\n",
    "print(f\"Price: ${price:.2f}\")  # 輸出：Price: $99.99\n",
    "print(f\"Is student: {is_student}\")  # 輸出：Is student"
   ]
  },
  {
   "cell_type": "code",
   "execution_count": 7,
   "id": "4f66c176",
   "metadata": {},
   "outputs": [
    {
     "name": "stdout",
     "output_type": "stream",
     "text": [
      "總和是：15\n"
     ]
    }
   ],
   "source": [
    "a = 10\n",
    "b = 5\n",
    "sum_result = a + b\n",
    "print(\"總和是：\", sum_result, sep=\"\")  # 輸出：總和是：15\n",
    "#print(f\"Sum: {sum_result}\")  # 輸出：Sum: 15"
   ]
  },
  {
   "cell_type": "code",
   "execution_count": 9,
   "id": "c9345cb0",
   "metadata": {},
   "outputs": [
    {
     "data": {
      "text/plain": [
       "100000"
      ]
     },
     "execution_count": 9,
     "metadata": {},
     "output_type": "execute_result"
    }
   ],
   "source": [
    "a ** b  # 10 的 5 次方\n",
    "# a // b  # 整數除法，結果為 2"
   ]
  },
  {
   "cell_type": "code",
   "execution_count": 10,
   "id": "edd3236d",
   "metadata": {},
   "outputs": [
    {
     "name": "stdout",
     "output_type": "stream",
     "text": [
      "Hello-world-!-2025\n"
     ]
    }
   ],
   "source": [
    "print('Hello','world', '!', 2025, sep='-')  # 輸出：Hello-world-!-2025"
   ]
  },
  {
   "cell_type": "code",
   "execution_count": 14,
   "id": "f68987c1",
   "metadata": {},
   "outputs": [
    {
     "name": "stdout",
     "output_type": "stream",
     "text": [
      "這個角度是 36.87 度\n"
     ]
    }
   ],
   "source": [
    "import math\n",
    "\n",
    "# 假設斜邊長為 10 ，對邊長為 36\n",
    "hypotenuse = 10\n",
    "opposite = 6\n",
    "\n",
    "# 使用 arcsin 計算角度（先得到弧度）\n",
    "radians = math.asin(opposite / hypotenuse)\n",
    "\n",
    "# 將弧度轉換為角度\n",
    "degrees = math.degrees(radians)\n",
    "\n",
    "print(f\"這個角度是 {degrees:.2f} 度\")\n"
   ]
  },
  {
   "cell_type": "code",
   "execution_count": 15,
   "id": "4bffe50c",
   "metadata": {},
   "outputs": [
    {
     "name": "stdout",
     "output_type": "stream",
     "text": [
      "弧度 = 0.6435011087932844\n",
      "角度 = 36.86989764584402\n"
     ]
    }
   ],
   "source": [
    "import math\n",
    "\n",
    "opposite = 3\n",
    "hypotenuse = 5\n",
    "\n",
    "# 求弧度\n",
    "radian_angle = math.asin(opposite / hypotenuse)\n",
    "print(\"弧度 =\", radian_angle)\n",
    "\n",
    "# 轉換成角度\n",
    "degree_angle = math.degrees(radian_angle)\n",
    "print(\"角度 =\", degree_angle)\n"
   ]
  }
 ],
 "metadata": {
  "kernelspec": {
   "display_name": "web_crawler",
   "language": "python",
   "name": "python3"
  },
  "language_info": {
   "codemirror_mode": {
    "name": "ipython",
    "version": 3
   },
   "file_extension": ".py",
   "mimetype": "text/x-python",
   "name": "python",
   "nbconvert_exporter": "python",
   "pygments_lexer": "ipython3",
   "version": "3.11.13"
  }
 },
 "nbformat": 4,
 "nbformat_minor": 5
}
