{
 "cells": [
  {
   "cell_type": "markdown",
   "id": "d416f606",
   "metadata": {},
   "source": [
    "# 使用 Playwright 進行網頁爬蟲\n",
    "\n",
    "本教學將帶領各位了解如何使用 Playwright 進行網頁爬蟲。\n",
    "\n",
    "## 注意事項\n",
    "\n",
    "由於 Playwright Chromium 需要底層 subprocess 的支援，而 Jupyter Notebook 內核通常不支援這類 subprocess，因此在 Notebook 中執行 Playwright 時，可能會遇到 `NotImplementedError` 的錯誤。\n",
    "\n",
    "建議各位：\n",
    "- 在終端機（命令列）中執行 Playwright 程式碼。\n",
    "- 或者改用 Selenium、requests/BeautifulSoup 等工具在 Notebook 中執行爬蟲任務。\n",
    "\n",
    "如果你仍然希望在 Notebook 中測試 Playwright，可以嘗試將瀏覽器設為 headless 模式（無頭模式），但這並不保證一定可行。"
   ]
  },
  {
   "cell_type": "code",
   "execution_count": 17,
   "id": "c6de0012",
   "metadata": {},
   "outputs": [
    {
     "name": "stdout",
     "output_type": "stream",
     "text": [
      "This domain is for use in illustrative examples in documents. You may use this domain in literature without prior coordination or asking for permission.\n"
     ]
    }
   ],
   "source": [
    "# 先安裝 selenium 套件\n",
    "#!pip install selenium\n",
    "\n",
    "# 建議在 Jupyter Notebook 中改用 Selenium\n",
    "from selenium import webdriver\n",
    "from selenium.webdriver.chrome.options import Options\n",
    "from selenium.webdriver.common.by import By\n",
    "\n",
    "chrome_options = Options()\n",
    "chrome_options.add_argument('--headless')\n",
    "chrome_options.add_argument('--disable-gpu')\n",
    "\n",
    "driver = webdriver.Chrome(options=chrome_options)\n",
    "driver.get('https://example.com')\n",
    "\n",
    "p_element = driver.find_element(By.TAG_NAME, 'p')\n",
    "print(p_element.text)\n",
    "\n",
    "driver.quit()"
   ]
  },
  {
   "cell_type": "markdown",
   "id": "941a131f",
   "metadata": {},
   "source": [
    "## 結論\n",
    "\n",
    "在本次教學中，我們介紹了如何使用 Playwright 進行基本的網頁爬蟲操作。\n",
    "\n",
    "請注意，若在 Jupyter Notebook 中遇到任何問題，建議轉至終端機執行或考慮使用其他爬蟲工具。"
   ]
  }
 ],
 "metadata": {
  "kernelspec": {
   "display_name": "web_crawler",
   "language": "python",
   "name": "python3"
  },
  "language_info": {
   "codemirror_mode": {
    "name": "ipython",
    "version": 3
   },
   "file_extension": ".py",
   "mimetype": "text/x-python",
   "name": "python",
   "nbconvert_exporter": "python",
   "pygments_lexer": "ipython3",
   "version": "3.11.13"
  }
 },
 "nbformat": 4,
 "nbformat_minor": 5
}
