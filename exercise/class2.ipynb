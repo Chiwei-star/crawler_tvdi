{
 "cells": [
  {
   "cell_type": "markdown",
   "id": "2179309c",
   "metadata": {},
   "source": [
    "#### 請說明class 物件，及其相關的屬性、方法\n",
    "* **class 物件說明**\n",
    "class是一個自訂的型別（type），用來定義某種物件的「藍圖」。\n",
    "\n",
    "透過class可以建立（或稱「實例化」）多個具有相同行為及特徵的物件實體（instance）。\n",
    "\n",
    "* **class 的相關概念**\n",
    "1. 屬性（Attributes）\n",
    "* 定義：屬性代表了class裡物件可以儲存的資料（資料成員）。\n",
    "\n",
    "* 用途：用來記錄物件的狀態。\n",
    "\n",
    "* 範例：\n",
    "\n",
    "在「學生」這個class中，可能有屬性：姓名(name)、學號(student_id)、年齡(age)。\n",
    "\n",
    "2. 方法（Methods）\n",
    "* 定義：方法是class裡所定義的功能（函式成員）。\n",
    "\n",
    "* 用途：描述class物件可執行的行為。\n",
    "\n",
    "* 範例：\n",
    "\n",
    "  * 在「學生」這個class中，可能有方法：選課(enroll_course)、顯示資料(display_info)。\n",
    "\n",
    "範例（以Python語言為例）"
   ]
  },
  {
   "cell_type": "code",
   "execution_count": 2,
   "id": "f5def013",
   "metadata": {},
   "outputs": [
    {
     "name": "stdout",
     "output_type": "stream",
     "text": [
      "姓名: 小明\n",
      "學號: A12345\n",
      "年齡: 20\n"
     ]
    }
   ],
   "source": [
    "class Student:\n",
    "    # 建構子：初始化屬性\n",
    "    def __init__(self, name, student_id, age):\n",
    "        self.name = name        # 屬性\n",
    "        self.student_id = student_id\n",
    "        self.age = age\n",
    "    \n",
    "    # 方法\n",
    "    def display_info(self):\n",
    "        print(f\"姓名: {self.name}\\n學號: {self.student_id}\\n年齡: {self.age}\")\n",
    "\n",
    "        # print(f\"姓名: {self.name}, 學號: {self.student_id}, 年齡: {self.age}\")\n",
    "\n",
    "# 建立物件\n",
    "s1 = Student(\"小明\", \"A12345\", 20)\n",
    "s1.display_info()  # 執行方法\n"
   ]
  },
  {
   "cell_type": "markdown",
   "id": "8eaf88c3",
   "metadata": {},
   "source": [
    "#### 小結\n",
    "* class 是藍圖，用來描述一組具有相同屬性(資料)和方法(操作)的物件。\n",
    "\n",
    "* 透過class產生的每一個物件實體，稱為「物件」。\n",
    "\n",
    "* 屬性：儲存資料的變數。\n",
    "\n",
    "* 方法：對資料進行操作，或讓物件具備行為的函式。\n",
    "\n",
    "* 這種架構有助於程式模組化、重複使用與維護性。"
   ]
  }
 ],
 "metadata": {
  "kernelspec": {
   "display_name": "web_crawler",
   "language": "python",
   "name": "python3"
  },
  "language_info": {
   "codemirror_mode": {
    "name": "ipython",
    "version": 3
   },
   "file_extension": ".py",
   "mimetype": "text/x-python",
   "name": "python",
   "nbconvert_exporter": "python",
   "pygments_lexer": "ipython3",
   "version": "3.11.13"
  }
 },
 "nbformat": 4,
 "nbformat_minor": 5
}
