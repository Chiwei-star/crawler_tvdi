{
 "cells": [
  {
   "cell_type": "markdown",
   "id": "b9039e72",
   "metadata": {},
   "source": [
    "### 什麼是類別 class？ \n",
    "\n",
    "類別，可以比喻成一張「藍圖」，不同的藍圖會有不同的「屬性」，根據不同的屬性，就會建構出不同的物體。或者也可將類別想像成一個「人」，不同的人會有不同的「特徵」( 屬性 )，根據不同的特徵，就會產生不同樣的人。\n",
    "\n",
    "舉例來說，下方的程式碼建立了一個名為 human ( 人 ) 的類別，類別預設有四個屬性，分別是兩個眼睛 eye、兩個耳朵 ear、一個鼻子 nose 和一張嘴巴 mouth，接著透過這個類別誕生了一個特定的人 oxxo，這個人就會具有對應的屬性 ( 後面會介紹如何建立類別 )。"
   ]
  },
  {
   "cell_type": "code",
   "execution_count": 4,
   "id": "7791a6e3",
   "metadata": {},
   "outputs": [
    {
     "name": "stdout",
     "output_type": "stream",
     "text": [
      "2\n",
      "2\n",
      "1\n",
      "1\n"
     ]
    }
   ],
   "source": [
    "class human():\n",
    "    def __init__(self): # 建立預設屬性的寫法\n",
    "        self.eye = 2    # 兩個眼睛\n",
    "        self.ear = 2    # 兩個耳朵\n",
    "        self.nose = 1   # 一個鼻子\n",
    "        self.mouth = 1  # 一個嘴巴\n",
    "\n",
    "oxxo = human()  # 建立一個人類的物件\n",
    "print(oxxo.eye)   # 印出眼睛的數量\n",
    "print(oxxo.ear)   # 印出耳朵的數量\n",
    "print(oxxo.nose)  # 印出鼻子的數量\n",
    "print(oxxo.mouth) # 印出口的數量"
   ]
  },
  {
   "cell_type": "markdown",
   "id": "e474fedd",
   "metadata": {},
   "source": [
    "### 什麼是物件 object？ \n",
    "在 Python 裡的任何東西 ( 數字、文字、函式...等 ) 都是物件，只是 Python 預設會將大部份物件的機制隱藏，只顯示最常使用的方法，除非有特殊需求，不然不需要更動到預設物件的行為。\n",
    "\n",
    "什麼是物件呢？物件是一種自訂的資料結構，裡面可能包含了各種變數、屬性、函式或方法，一個物件可以透過他的屬性或方法，定義他和別的物件進行互動。"
   ]
  },
  {
   "cell_type": "markdown",
   "id": "ddf97ba6",
   "metadata": {},
   "source": [
    "### 建立類別 \n",
    "建立類別的方式類似建立一個函式，差別在於函式使用 def 開頭，而類別使用 class 開頭，下方的程式碼會建立一個「空」的類別 human ( 很像一個人在最開始只是一個細胞，身上什麼器官都還沒長出來 )："
   ]
  },
  {
   "cell_type": "code",
   "execution_count": null,
   "id": "1834e105",
   "metadata": {},
   "outputs": [],
   "source": [
    "class human():\n",
    "    pass  # 這是一個空的類別，沒有任何屬性或方法"
   ]
  },
  {
   "cell_type": "markdown",
   "id": "e2e6487e",
   "metadata": {},
   "source": [
    "接著使用建立類別的預設方法「__init__」( 注意前後是兩條底線 )，將預設的屬性加入類別裡。\n",
    "> def __init__(self) 預設帶有一個 self 參數，代表透過類別建立的物件本體，內容使用「.屬性」就能將指定的屬性加入類別中。\n",
    "> * __init__ 可以不用定義，但如果需要有一些預設的屬性，就可以定義在裡面"
   ]
  },
  {
   "cell_type": "code",
   "execution_count": null,
   "id": "d8d79ac5",
   "metadata": {},
   "outputs": [],
   "source": [
    "class human():\n",
    "    def __init__(self): # 建立預設屬性的寫法\n",
    "        self.eye = 2    # 兩個眼睛\n",
    "        self.ear = 2    # 兩個耳朵\n",
    "        self.nose = 1   # 一個鼻子\n",
    "        self.mouth = 1  # 一個嘴巴"
   ]
  },
  {
   "cell_type": "markdown",
   "id": "12e27e28",
   "metadata": {},
   "source": [
    "除了預設的屬性，也可以自訂屬性，下方的例子定義了 say 和 play 兩個函式作為 human 的屬性，執行後，就等同於一個名為 oxxo 的人說話和玩棒球。"
   ]
  },
  {
   "cell_type": "markdown",
   "id": "263e841f",
   "metadata": {},
   "source": [
    "#### **注意，字定義屬性的第一個參數也都必須是 self。**"
   ]
  },
  {
   "cell_type": "code",
   "execution_count": null,
   "id": "287c9e1a",
   "metadata": {},
   "outputs": [
    {
     "name": "stdout",
     "output_type": "stream",
     "text": [
      "哈囉，我是 oxxo\n",
      "我在玩 棒球，我是 oxxo\n"
     ]
    }
   ],
   "source": [
    "class human():\n",
    "    def __init__(self): # 建立預設屬性的寫法\n",
    "        self.eye = 2    # 兩個眼睛\n",
    "        self.ear = 2    # 兩個耳朵\n",
    "        self.nose = 1   # 一個鼻子\n",
    "        self.mouth = 1  # 一個嘴巴\n",
    "    def say(self, words):  # 定義一個說話的屬性\n",
    "        print(f\"{words}，我是 oxxo\")\n",
    "    def play(self, game):  # 定義一個玩遊戲的屬性\n",
    "        print(f\"我在玩 {game}，我是 oxxo\")\n",
    "\n",
    "oxxo = human()  # 建立一個人類的物件\n",
    "oxxo.say(\"哈囉\")  # robt 說話\n",
    "oxxo.play(\"棒球\")  # robt 玩遊戲"
   ]
  },
  {
   "cell_type": "markdown",
   "id": "8195d95e",
   "metadata": {},
   "source": [
    "屬性除了可以定義在類別裡，也可以從外部定義，下面的程式碼額外定義了手 hand 和腳 leg 兩個屬性。"
   ]
  },
  {
   "cell_type": "code",
   "execution_count": 9,
   "id": "55db46be",
   "metadata": {},
   "outputs": [
    {
     "name": "stdout",
     "output_type": "stream",
     "text": [
      "2\n",
      "2\n"
     ]
    }
   ],
   "source": [
    "class human():\n",
    "    def __init__(self): # 建立預設屬性的寫法\n",
    "        self.eye = 2    # 兩個眼睛\n",
    "        self.ear = 2    # 兩個耳朵\n",
    "        self.nose = 1   # 一個鼻子\n",
    "        self.mouth = 1  # 一個嘴巴\n",
    "    def say(self, words):  # 定義一個說話的屬性\n",
    "        print(f\"{words}，我是 oxxo\")\n",
    "    def play(self, game):  # 定義一個玩遊戲的屬性\n",
    "        print(f\"我在玩 {game}，我是 oxxo\")\n",
    "\n",
    "human.hand = 2  # 定義一個手的屬性\n",
    "human.leg = 2  # 定義一個腳的屬性\n",
    "\n",
    "oxxo = human()  # 建立一個人類的物件\n",
    "print(oxxo.hand)   # 印出眼睛的數量\n",
    "print(oxxo.leg)    # 印出腳的數量"
   ]
  },
  {
   "cell_type": "markdown",
   "id": "bcd7faf6",
   "metadata": {},
   "source": [
    "剛剛有提到 self 這個參數，這個參數代表「透過類別建立的物件本體」，使用 self 可以讀取到這個物件的所有屬性，下方的例子從外部定義了 oxxo.name 的屬性，在 human 裡就能使用 self.name 取得這個屬性。"
   ]
  },
  {
   "cell_type": "code",
   "execution_count": 15,
   "id": "6526ca4d",
   "metadata": {},
   "outputs": [
    {
     "name": "stdout",
     "output_type": "stream",
     "text": [
      "oxxo say:hello\n"
     ]
    }
   ],
   "source": [
    "class human():\n",
    "    def __init__(self):\n",
    "        self.eye = 2    # 兩個眼睛\n",
    "        self.ear = 2    # 兩個耳朵\n",
    "        self.nose = 1   # 一個鼻子\n",
    "        self.mouth = 1  # 一個嘴巴\n",
    "    def say(self, words):  # 定義一個說話的屬性\n",
    "        print(f\"{self.name} say:{words}\") # 使用 self.name 取得 name 屬性的值\n",
    "    def play(self, thing):  # 定義一個玩遊戲的屬性\n",
    "        print(thing)  # 印出遊戲名稱\n",
    "\n",
    "oxxo = human()  # 建立一個人類的物件\n",
    "oxxo.name = \"oxxo\"  # 定義一個 name 屬性\n",
    "oxxo.say(\"hello\")  # oxxo 說話\n",
    "# oxxo.play(\"baseball\")  # oxxo 打球"
   ]
  },
  {
   "cell_type": "markdown",
   "id": "f55afa3d",
   "metadata": {},
   "source": [
    "### 多個物件同一個類別\n",
    "一個類別可以產生多個物件 ( 人 human 的類別可以產生無數不同的人 )，每個物件產生後，也可以定義自己特殊的屬性，就如同人誕生後，雖然都有眼睛鼻子嘴巴，但某些人會去學畫畫，某些人會去學鋼琴，下方的程式碼會產生oxxo 和 gkpen 兩個不同的人，oxxo 會自定義 age 屬性，gkpen 會自定義 weight 屬性。"
   ]
  },
  {
   "cell_type": "code",
   "execution_count": 16,
   "id": "fcbb4981",
   "metadata": {},
   "outputs": [
    {
     "name": "stdout",
     "output_type": "stream",
     "text": [
      "oxxo say:hello\n",
      "18\n",
      "gkpen say:song\n",
      "70\n"
     ]
    }
   ],
   "source": [
    "class human():\n",
    "    def __init__(self):  # 可以自訂屬性\n",
    "        self.eye = 2\n",
    "        self.ear = 2\n",
    "        self.nose = 1\n",
    "        self.mouth = 1\n",
    "    def say(self, words):  # 定義一個說話的屬性\n",
    "        print(f\"{self.name} say:{words}\")  # 使用 self.name 取得 name 屬性的值\n",
    "    def play(self, thing):  # 定義一個玩遊戲的屬性\n",
    "        print(f\"{self.name} play:{thing}\")\n",
    "\n",
    "oxxo = human()     # 定義 oxxo 為 human 的物件\n",
    "gkpen = human()    # 定義 gkpen 為 human 的物件\n",
    "oxxo.name = \"oxxo\" # oxxo 的名字叫做 oxxo\n",
    "oxxo.age = 18      # oxxo 的 age 為 18 \n",
    "\n",
    "gkpen.name = \"gkpen\"  # gkpen 的名字叫做 gkpen\n",
    "gkpen.weight = 70     # oxxo 的 age 為 70\n",
    "\n",
    "oxxo.say(\"hello\")  # oxxo 說話\n",
    "print(oxxo.age)    # 印出 oxxo 的年齡 18\n",
    "gkpen.say(\"song\")    # gkpen 說話\n",
    "print(gkpen.weight)  # 印出 gkpen 的體重 70\n"
   ]
  },
  {
   "cell_type": "markdown",
   "id": "8a5ca0f3",
   "metadata": {},
   "source": [
    "如果覺得這樣子定義比較麻煩，也可以在建立類別時，預先設定好一些參數，接著透過類別建立物件時，在做動態的調整，例如下方的例子，在 init 裡建立 age、weight 的參數，建立物件時就能動態傳入。"
   ]
  },
  {
   "cell_type": "code",
   "execution_count": null,
   "id": "c3529f54",
   "metadata": {},
   "outputs": [],
   "source": [
    "class human():\n",
    "    def __init__(self, age, weight):   # 新增 age 和 weight 參數\n",
    "        self.eye = 2\n",
    "        self.ear = 2\n",
    "        self.nose = 1\n",
    "        self.mouth = 1\n",
    "        self.age = age        # 讀取參數，變成屬性\n",
    "        self.weight = weight  # 讀取參數，變成屬性\n",
    "    def say(self, words):  # 定義一個說話的屬性\n",
    "        print(f\"{self.name} say:{words}\")  # 使用 self.name 取得 name 屬性的值\n",
    "    def play(self, thing):  # 定義一個玩遊戲的屬性\n",
    "        print(f\"{self.name} play:{thing}\")\n",
    "\n",
    "oxxo = human()     # 定義 oxxo 為 human 的物件\n",
    "gkpen = human()    # 定義 gkpen 為 human 的物件\n",
    "oxxo.name = \"oxxo\" # oxxo 的名字叫做 oxxo\n",
    "oxxo.age = 18      # oxxo 的 age 為 18 \n",
    "\n",
    "gkpen.name = \"gkpen\"  # gkpen 的名字叫做 gkpen\n",
    "gkpen.weight = 70     # oxxo 的 age 為 70\n",
    "\n",
    "oxxo = human(18, 68)            # 建立物件時，設定參數數值\n",
    "gkpen = human(15, 70)           # 建立物件時，設定參數數值\n",
    "print(oxxo.age, oxxo.weight)    # 18, 68\n",
    "print(gkpen.age, gkpen.weight)  # 15, 70"
   ]
  },
  {
   "cell_type": "markdown",
   "id": "4ad14938",
   "metadata": {},
   "source": [
    "### 覆寫屬性\n",
    "如果從外部定義了和類別屬性名稱相同的屬性，就會覆寫內部屬性，下方的例子，從外部定義了 oxxo.play 的屬性，就覆寫原本的 play 屬性。"
   ]
  },
  {
   "cell_type": "code",
   "execution_count": 17,
   "id": "e0d56219",
   "metadata": {},
   "outputs": [
    {
     "name": "stdout",
     "output_type": "stream",
     "text": [
      "???\n"
     ]
    }
   ],
   "source": [
    "class human():\n",
    "    def __init__(self):\n",
    "        self.eye = 2\n",
    "        self.ear = 2\n",
    "        self.nose = 1\n",
    "        self.mouth = 1\n",
    "    def say(self, words):\n",
    "        print(f'{self.name} say: {words}')\n",
    "    def play(self, thing):\n",
    "        print(thing)\n",
    "\n",
    "oxxo = human()\n",
    "oxxo.play = '???'  # 覆寫 play 屬性\n",
    "print(oxxo.play)   # ???"
   ]
  },
  {
   "cell_type": "markdown",
   "id": "a01e99a8",
   "metadata": {},
   "source": [
    "### @property 唯讀屬性 \n",
    "如果在類別裡有些屬性不希望被外部更動，就能夠使用 @property 的裝飾器，將該屬性設為唯讀屬性，下方的例子，oxxo.a 可以將原本的 a 屬性換成 12345，但 oxxo.b 就無法更動 b 屬性，因為 b 屬性已經變成唯讀屬性。"
   ]
  },
  {
   "cell_type": "code",
   "execution_count": 18,
   "id": "906613a5",
   "metadata": {},
   "outputs": [
    {
     "name": "stdout",
     "output_type": "stream",
     "text": [
      "12345\n"
     ]
    },
    {
     "ename": "AttributeError",
     "evalue": "property 'b' of 'a' object has no setter",
     "output_type": "error",
     "traceback": [
      "\u001b[31m---------------------------------------------------------------------------\u001b[39m",
      "\u001b[31mAttributeError\u001b[39m                            Traceback (most recent call last)",
      "\u001b[36mCell\u001b[39m\u001b[36m \u001b[39m\u001b[32mIn[18]\u001b[39m\u001b[32m, line 11\u001b[39m\n\u001b[32m      9\u001b[39m oxxo.a = \u001b[33m'\u001b[39m\u001b[33m12345\u001b[39m\u001b[33m'\u001b[39m\n\u001b[32m     10\u001b[39m \u001b[38;5;28mprint\u001b[39m(oxxo.a)   \u001b[38;5;66;03m# 12345\u001b[39;00m\n\u001b[32m---> \u001b[39m\u001b[32m11\u001b[39m \u001b[43moxxo\u001b[49m\u001b[43m.\u001b[49m\u001b[43mb\u001b[49m = \u001b[33m'\u001b[39m\u001b[33m12345\u001b[39m\u001b[33m'\u001b[39m\n\u001b[32m     12\u001b[39m \u001b[38;5;28mprint\u001b[39m(oxxo.b)   \u001b[38;5;66;03m# 發生錯誤  can't set attribute\u001b[39;00m\n",
      "\u001b[31mAttributeError\u001b[39m: property 'b' of 'a' object has no setter"
     ]
    }
   ],
   "source": [
    "class a:\n",
    "    def a(self):\n",
    "        return 'aaaaa'\n",
    "    @property\n",
    "    def b(self):\n",
    "        return 'bbbbb'\n",
    "\n",
    "oxxo = a()\n",
    "oxxo.a = '12345'\n",
    "print(oxxo.a)   # 12345\n",
    "oxxo.b = '12345'\n",
    "print(oxxo.b)   # 發生錯誤  can't set attribute"
   ]
  }
 ],
 "metadata": {
  "kernelspec": {
   "display_name": "web_crawler",
   "language": "python",
   "name": "python3"
  },
  "language_info": {
   "codemirror_mode": {
    "name": "ipython",
    "version": 3
   },
   "file_extension": ".py",
   "mimetype": "text/x-python",
   "name": "python",
   "nbconvert_exporter": "python",
   "pygments_lexer": "ipython3",
   "version": "3.11.13"
  }
 },
 "nbformat": 4,
 "nbformat_minor": 5
}
