{
 "cells": [
  {
   "cell_type": "markdown",
   "id": "29bf34e7",
   "metadata": {},
   "source": [
    "#### Learn Python\n",
    "##### https://learn-python.adamemery.dev/classes"
   ]
  },
  {
   "cell_type": "markdown",
   "id": "47c917ab",
   "metadata": {},
   "source": [
    "#### Classes  類\n",
    "A class is a data structure that contains attributes and methods. You have already used classes in Python. For example, int and list are both classes.\n",
    "\n",
    "類是包含屬性和方法的數據結構。您已經在 Python 中使用了類。例如，int 和 list 都是類。"
   ]
  },
  {
   "cell_type": "code",
   "execution_count": 2,
   "id": "6a53a3c3",
   "metadata": {},
   "outputs": [
    {
     "name": "stdout",
     "output_type": "stream",
     "text": [
      "<class 'int'>\n",
      "<class 'list'>\n"
     ]
    }
   ],
   "source": [
    "print(int) # <class 'int'>\n",
    "print(list) # <class 'list'>\n"
   ]
  },
  {
   "cell_type": "markdown",
   "id": "a7bcd48c",
   "metadata": {},
   "source": [
    "In the list class the attribute is the data stored in the list and the methods are functions that can be called on the list, such as append and sort.\n",
    "\n",
    "在 list 類中，屬性是存儲在清單中的數據，方法是可以在清單上調用的函數，例如 append 和 sort。\n",
    "\n",
    "A class instance is an object that is created from a class. Using int as an example, 1 and 5 would be instances of the int class.\n",
    "\n",
    "類實例是從類創建的物件。以 int 為例， 1 和 5 將是 int 類的實例。\n",
    "\n",
    "We can use the built-in function isinstance to check if an object is an instance of a class. Similarly, we can use the built-in function type to get the class of an object.\n",
    "\n",
    "我們可以使用內置函數 isinstance 來檢查物件是否是類的實例。同樣，我們可以使用內置函數類型來獲取物件的類。"
   ]
  },
  {
   "cell_type": "code",
   "execution_count": 1,
   "id": "c06e2694",
   "metadata": {},
   "outputs": [
    {
     "name": "stdout",
     "output_type": "stream",
     "text": [
      "<class 'int'>\n",
      "<class 'list'>\n",
      "True\n",
      "True\n"
     ]
    }
   ],
   "source": [
    "isinstance(5, int) # True\n",
    "isinstance(5, list) # False\n",
    "print(type(5)) # <class 'int'>\n",
    "print(type([])) # <class 'list'>\n",
    "print(type(5) is int) # True\n",
    "print(type([]) is list) # True"
   ]
  },
  {
   "cell_type": "markdown",
   "id": "350e9e19",
   "metadata": {},
   "source": [
    "#### Creating a class  創建類\n",
    "The keyword class is used to create a class.\n",
    "\n",
    "關鍵字 class 用於創建類。"
   ]
  },
  {
   "cell_type": "code",
   "execution_count": 3,
   "id": "e6388500",
   "metadata": {},
   "outputs": [
    {
     "name": "stdout",
     "output_type": "stream",
     "text": [
      "10\n",
      "20\n"
     ]
    }
   ],
   "source": [
    "class ClassDefinition:\n",
    "    attribute = 10\n",
    "    def method():\n",
    "        return 20\n",
    "\n",
    "print(ClassDefinition.attribute) # 10\n",
    "print(ClassDefinition.method()) # 20\n"
   ]
  },
  {
   "cell_type": "markdown",
   "id": "abf5260e",
   "metadata": {},
   "source": [
    "### Creating an instance  創建實例\n",
    "A class instance is an object that is created from a class. The self argument is automatically passed into instance methods when the method is called. It can be used to access the attributes and methods of the object.\n",
    "\n",
    "類實例是從類創建的物件。當調用該方法時，self 參數會自動傳遞到實例方法中。它可用於訪問對象的屬性和方法。"
   ]
  },
  {
   "cell_type": "code",
   "execution_count": 4,
   "id": "529b2b12",
   "metadata": {},
   "outputs": [
    {
     "name": "stdout",
     "output_type": "stream",
     "text": [
      "10\n",
      "20\n",
      "10\n",
      "<function ClassDefinition.method at 0x0000027457B902C0>\n"
     ]
    }
   ],
   "source": [
    "class ClassDefinition:\n",
    "    attribute = 10\n",
    "    def method(self):\n",
    "        return self.attribute * 2\n",
    "\n",
    "# use the class to create an object\n",
    "class_instance = ClassDefinition()\n",
    "print(class_instance.attribute) # 10\n",
    "print(class_instance.method()) # 20\n",
    "print(ClassDefinition.attribute) # 10\n",
    "print(ClassDefinition.method) # <function ClassDefinition.method at 0x...>"
   ]
  },
  {
   "cell_type": "markdown",
   "id": "5bbf3324",
   "metadata": {},
   "source": [
    "#### The (__init__) method\n",
    "(__init__) 方法\n",
    "Dunder methods are special methods that are used to define the behavior of a class. The __init__ dunder method is one of these special methods. It is called when an object is created from a class to initialize the object with any attributes that are required.\n",
    "\n",
    "Dunder 方法是用於定義類行為的特殊方法。__init__ dunder 方法是這些特殊方法之一。當從類創建物件以使用所需的任何屬性初始化物件時，將調用它。"
   ]
  },
  {
   "cell_type": "code",
   "execution_count": 5,
   "id": "b7fa0f43",
   "metadata": {},
   "outputs": [
    {
     "name": "stdout",
     "output_type": "stream",
     "text": [
      "20\n",
      "40\n",
      "<class 'int'>\n",
      "<class 'list'>\n"
     ]
    }
   ],
   "source": [
    "class ClassDefinition:\n",
    "    def __init__(self, attribute):\n",
    "        self.attribute = attribute\n",
    "\n",
    "    def method(self):\n",
    "        return self.attribute * 2\n",
    "\n",
    "# use the class to create an object\n",
    "class_instance = ClassDefinition(20)\n",
    "print(class_instance.attribute) # 20\n",
    "print(class_instance.method()) # 40\n",
    "print(int) # <class 'int'>\n",
    "print(list) # <class 'list'>"
   ]
  },
  {
   "cell_type": "markdown",
   "id": "d87de83e",
   "metadata": {},
   "source": [
    "### Exercise  鍛煉\n",
    "1. Create a class called Person\n",
    "創建一個名為 Person 的類\n",
    "2. Add two attributes: name and age that can be set when the object is created.\n",
    "添加兩個屬性：name 和 age，可在創建物件時設置。\n",
    "3. Create a method called introduce that prints a string in the format:\n",
    "建立名為 introduce 的方法，該方法按以下格式列印字串：\n",
    "\n",
    "Hi, My name is Joe and I am 12 years old."
   ]
  },
  {
   "cell_type": "code",
   "execution_count": 1,
   "id": "a601f2d9",
   "metadata": {},
   "outputs": [
    {
     "name": "stdout",
     "output_type": "stream",
     "text": [
      "Hi, My name is Joe and I am 12 years old.\n"
     ]
    }
   ],
   "source": [
    "class Person:\n",
    "    def __init__(self, name, age):\n",
    "        self.name = name\n",
    "        self.age = age\n",
    "\n",
    "    def introduce(self):\n",
    "        print(f\"Hi, My name is {self.name} and I am {self.age} years old.\")\n",
    "\n",
    "# Example usage:\n",
    "person = Person(\"Joe\", 12)\n",
    "person.introduce()"
   ]
  },
  {
   "cell_type": "code",
   "execution_count": 2,
   "id": "652a24a4",
   "metadata": {},
   "outputs": [
    {
     "name": "stdout",
     "output_type": "stream",
     "text": [
      "Hello, my name is Alice and I am 30 years old.\n",
      "Hello, my name is Bob and I am 25 years old.\n",
      "Hello, my name is Charlie and I am 40 years old.\n"
     ]
    }
   ],
   "source": [
    "class Person:\n",
    "    def __init__(self, name, age):\n",
    "        self.name = name\n",
    "        self.age = age\n",
    "\n",
    "    def greet(self):\n",
    "        return f\"Hello, my name is {self.name} and I am {self.age} years old.\"\n",
    "\n",
    "print(Person(\"Alice\", 30).greet()) # Hello, my name is Alice and I am 30 years old.\n",
    "print(Person(\"Bob\", 25).greet()) # Hello, my name is Bob and I am 25 years old.\n",
    "print(Person(\"Charlie\", 40).greet()) # Hello, my name is Charlie and I am 40 years old."
   ]
  }
 ],
 "metadata": {
  "kernelspec": {
   "display_name": "web_crawler",
   "language": "python",
   "name": "python3"
  },
  "language_info": {
   "codemirror_mode": {
    "name": "ipython",
    "version": 3
   },
   "file_extension": ".py",
   "mimetype": "text/x-python",
   "name": "python",
   "nbconvert_exporter": "python",
   "pygments_lexer": "ipython3",
   "version": "3.11.13"
  }
 },
 "nbformat": 4,
 "nbformat_minor": 5
}
