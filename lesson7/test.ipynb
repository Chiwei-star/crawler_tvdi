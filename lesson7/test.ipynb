{
 "cells": [
  {
   "cell_type": "code",
   "execution_count": null,
   "id": "fac1e5a8",
   "metadata": {},
   "outputs": [
    {
     "name": "stdout",
     "output_type": "stream",
     "text": [
      "Python is fun\n"
     ]
    }
   ],
   "source": [
    "words = ['Python', 'is', 'fun']\n",
    "result = ' '.join(words)\n",
    "print(result)  # 輸出: Python is fun\n"
   ]
  },
  {
   "cell_type": "code",
   "execution_count": 3,
   "id": "7f7d7bdc",
   "metadata": {},
   "outputs": [
    {
     "name": "stdout",
     "output_type": "stream",
     "text": [
      "apple,banana,cherry\n"
     ]
    }
   ],
   "source": [
    "# 使用逗號作為分隔符\n",
    "result = ','.join(['apple', 'banana', 'cherry'])\n",
    "print(result)  # 輸出: apple,banana,cherry\n"
   ]
  },
  {
   "cell_type": "code",
   "execution_count": 4,
   "id": "fa971943",
   "metadata": {},
   "outputs": [
    {
     "name": "stdout",
     "output_type": "stream",
     "text": [
      "A-B-C\n"
     ]
    }
   ],
   "source": [
    "# 連接字元串\n",
    "result = '-'.join('ABC')\n",
    "print(result)  # 輸出: A-B-C"
   ]
  }
 ],
 "metadata": {
  "kernelspec": {
   "display_name": "web_crawler",
   "language": "python",
   "name": "python3"
  },
  "language_info": {
   "codemirror_mode": {
    "name": "ipython",
    "version": 3
   },
   "file_extension": ".py",
   "mimetype": "text/x-python",
   "name": "python",
   "nbconvert_exporter": "python",
   "pygments_lexer": "ipython3",
   "version": "3.11.13"
  }
 },
 "nbformat": 4,
 "nbformat_minor": 5
}
